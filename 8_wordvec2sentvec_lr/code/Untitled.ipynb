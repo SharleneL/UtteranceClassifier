{
 "cells": [
  {
   "cell_type": "code",
   "execution_count": 50,
   "metadata": {
    "collapsed": false
   },
   "outputs": [
    {
     "name": "stdout",
     "output_type": "stream",
     "text": [
      "[[1, 2, 3], [5, 2, 0], [3, 2, 6], [5, 2, 4]]\n",
      "[[ 1.          0.4466625   0.95450444  0.83666003]\n",
      " [ 0.4466625   1.          0.5040302   0.80277297]\n",
      " [ 0.95450444  0.5040302   1.          0.91572308]\n",
      " [ 0.83666003  0.80277297  0.91572308  1.        ]]\n",
      "[ 0.83666003]\n",
      "[0.44666250028691867, 0.50403020362342643, 0.91572307649991391, 0.95450443540151564, 0.80277297191948638, 0.83666002653407545]\n"
     ]
    }
   ],
   "source": [
    "import numpy as np\n",
    "\n",
    "data = [[1, 2, 3], [5, 2, 0], [3, 2, 6], [5, 2, 4]]\n",
    "print data\n",
    "# avg = [float(sum(col))/len(col) for col in zip(*data)]\n",
    "# print avg\n",
    "D = np.array(data)\n",
    "prd_M = np.dot(D, D.T)  # inner product for vector pairs\n",
    "len_v = np.sqrt(np.sum(np.square(D), axis=1))  # for each row\n",
    "len_M = np.dot(np.array([len_v]).T, np.array([len_v]))\n",
    "inprd_M = np.divide(prd_M, len_M)\n",
    "print inprd_M\n",
    "print inprd_M.diagonal(3)\n",
    "inprd_list = []\n",
    "for i in range (1, inprd_M.shape[0]):\n",
    "    inprd_list.extend(inprd_M.diagonal(i))\n",
    "print inprd_list"
   ]
  },
  {
   "cell_type": "code",
   "execution_count": 38,
   "metadata": {
    "collapsed": false
   },
   "outputs": [
    {
     "data": {
      "text/plain": [
       "0.4466625002869187"
      ]
     },
     "execution_count": 38,
     "metadata": {},
     "output_type": "execute_result"
    }
   ],
   "source": [
    "import math\n",
    "9 / (math.sqrt(14) * math.sqrt(29))"
   ]
  },
  {
   "cell_type": "code",
   "execution_count": 55,
   "metadata": {
    "collapsed": false
   },
   "outputs": [
    {
     "name": "stdout",
     "output_type": "stream",
     "text": [
      "2\n"
     ]
    }
   ],
   "source": [
    "l = np.array([1, 2, 1])\n",
    "print np.max(l)"
   ]
  },
  {
   "cell_type": "code",
   "execution_count": null,
   "metadata": {
    "collapsed": true
   },
   "outputs": [],
   "source": []
  }
 ],
 "metadata": {
  "kernelspec": {
   "display_name": "Python 2",
   "language": "python",
   "name": "python2"
  },
  "language_info": {
   "codemirror_mode": {
    "name": "ipython",
    "version": 2
   },
   "file_extension": ".py",
   "mimetype": "text/x-python",
   "name": "python",
   "nbconvert_exporter": "python",
   "pygments_lexer": "ipython2",
   "version": "2.7.11"
  }
 },
 "nbformat": 4,
 "nbformat_minor": 0
}
